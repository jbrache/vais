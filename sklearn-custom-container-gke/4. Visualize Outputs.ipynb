{
 "cells": [
  {
   "cell_type": "code",
   "execution_count": null,
   "id": "3fbeecdc",
   "metadata": {},
   "outputs": [],
   "source": [
    "# Copyright 2021 Google LLC\n",
    "#\n",
    "# Licensed under the Apache License, Version 2.0 (the \"License\");\n",
    "# you may not use this file except in compliance with the License.\n",
    "# You may obtain a copy of the License at\n",
    "#\n",
    "#     https://www.apache.org/licenses/LICENSE-2.0\n",
    "#\n",
    "# Unless required by applicable law or agreed to in writing, software\n",
    "# distributed under the License is distributed on an \"AS IS\" BASIS,\n",
    "# WITHOUT WARRANTIES OR CONDITIONS OF ANY KIND, either express or implied.\n",
    "# See the License for the specific language governing permissions and\n",
    "# limitations under the License."
   ]
  },
  {
   "cell_type": "markdown",
   "id": "4827b4da",
   "metadata": {},
   "source": [
    "### Import packages"
   ]
  },
  {
   "cell_type": "code",
   "execution_count": null,
   "id": "04c0385f",
   "metadata": {},
   "outputs": [],
   "source": [
    "import os\n",
    "import json\n",
    "import logging\n",
    "import pandas as pd\n",
    "import numpy as np\n",
    "\n",
    "from datetime import datetime\n",
    "from pytz import timezone"
   ]
  },
  {
   "cell_type": "markdown",
   "id": "017b7c82-389c-4348-8581-6ad6a9207f65",
   "metadata": {},
   "source": [
    "## 1. Load the data training and predictions data from GCS"
   ]
  },
  {
   "cell_type": "markdown",
   "id": "58ebec5e-5a3c-4f19-807c-d45ea37edfa7",
   "metadata": {},
   "source": [
    "### Configure Global Variables"
   ]
  },
  {
   "cell_type": "code",
   "execution_count": null,
   "id": "bd3e5495-b897-4103-8e77-6ed9ce1476de",
   "metadata": {},
   "outputs": [],
   "source": [
    "project_id = !gcloud config list --format 'value(core.project)' 2>/dev/null\n",
    "print(project_id)"
   ]
  },
  {
   "cell_type": "code",
   "execution_count": null,
   "id": "33845219-7721-45b3-a3c2-87ba904864df",
   "metadata": {},
   "outputs": [],
   "source": [
    "# Configure your global variables\n",
    "PROJECT = project_id[0]          # Replace with your project ID\n",
    "USER = 'test_user'               # Replace with your user name\n",
    "BUCKET_NAME = project_id[0] + '-vertex-ai'       # Replace with your gcs bucket name\n",
    "\n",
    "FOLDER_NAME = 'sklearn_models'\n",
    "ALGORITHM = 'isolation_forest'\n",
    "TIMEZONE = 'US/Pacific'         \n",
    "REGION = 'us-central1'           # bucket should be in same region as Vertex AI         \n",
    "TRAIN_FEATURE_PATH = f\"gs://{BUCKET_NAME}/{FOLDER_NAME}_data/{ALGORITHM}/train/train.csv\"\n",
    "TEST_FEATURE_PATH = f\"gs://{BUCKET_NAME}/{FOLDER_NAME}_data/{ALGORITHM}/test/test.csv\""
   ]
  },
  {
   "cell_type": "code",
   "execution_count": null,
   "id": "0ab6fef4-3bdd-4073-ada2-11a07804fca9",
   "metadata": {},
   "outputs": [],
   "source": [
    "print(f\"Project:      {PROJECT}\")\n",
    "print(f\"Bucket Name: {BUCKET_NAME}\")\n",
    "print(f\"Training Data URI:  {TRAIN_FEATURE_PATH}\")\n",
    "print(f\"Test Data URI:      {TEST_FEATURE_PATH}\")"
   ]
  },
  {
   "cell_type": "markdown",
   "id": "6ecc661e-2e5b-4d21-b22e-ed41e5952f1f",
   "metadata": {},
   "source": [
    "### Model file URI"
   ]
  },
  {
   "cell_type": "code",
   "execution_count": null,
   "id": "d9f5ca55-62a3-4e12-930f-4b79023cfee4",
   "metadata": {},
   "outputs": [],
   "source": [
    "JOB_NAME = 'custom_container_isolation_forest_gke'\n",
    "# We use the job names as folder names to store outputs.\n",
    "JOB_DIR = 'gs://{}/{}/{}'.format(\n",
    "    BUCKET_NAME,\n",
    "    FOLDER_NAME,\n",
    "    JOB_NAME,\n",
    "    )\n",
    "\n",
    "ARTIFACT_URI = JOB_DIR\n",
    "print(\"ARTIFACT_URI = \", ARTIFACT_URI)"
   ]
  },
  {
   "cell_type": "markdown",
   "id": "fdd9bbb7-c03d-4555-b428-5e2e4953062e",
   "metadata": {},
   "source": [
    "### Load Train, Test datasets and the model file"
   ]
  },
  {
   "cell_type": "code",
   "execution_count": null,
   "id": "61bac14f-b61f-4998-9ef9-c686883c55b6",
   "metadata": {},
   "outputs": [],
   "source": [
    "import json\n",
    "import numpy as np\n",
    "import pandas as pd\n",
    "import matplotlib.pyplot as plt\n",
    "from numpy import genfromtxt\n",
    "from sklearn.ensemble import IsolationForest\n",
    "import tensorflow as tf\n",
    "import joblib\n",
    "\n",
    "rng = np.random.RandomState(42)\n",
    "\n",
    "train_df = pd.read_csv(TRAIN_FEATURE_PATH, header=None, delimiter=',', index_col=False)\n",
    "x_train = train_df.to_numpy()\n",
    "test_df = pd.read_csv(TEST_FEATURE_PATH, header=None, delimiter=',', index_col=False)\n",
    "x_test = test_df.to_numpy()\n",
    "\n",
    "# load the model from GCS\n",
    "model_file = ARTIFACT_URI + '/' + 'model.joblib'\n",
    "clf = joblib.load(tf.io.gfile.GFile(model_file, 'rb'))\n",
    "\n",
    "# Generate some abnormal novel observations\n",
    "x_outliers = rng.uniform(low=-4, high=4, size=(20, 2))"
   ]
  },
  {
   "cell_type": "markdown",
   "id": "ad4dd889-362b-40db-a96d-f60c60081a10",
   "metadata": {},
   "source": [
    "## 2. Plot the samples, and the nearest vectors to the plane"
   ]
  },
  {
   "cell_type": "code",
   "execution_count": null,
   "id": "2614407f-6111-4c20-8edf-ddd334b06f74",
   "metadata": {},
   "outputs": [],
   "source": [
    "# plot the line, the samples, and the nearest vectors to the plane\n",
    "xx, yy = np.meshgrid(np.linspace(-5, 5, 50), np.linspace(-5, 5, 50))\n",
    "Z = clf.decision_function(np.c_[xx.ravel(), yy.ravel()])\n",
    "Z = Z.reshape(xx.shape)\n",
    "\n",
    "plt.title(\"IsolationForest\")\n",
    "plt.contourf(xx, yy, Z, cmap=plt.cm.Blues_r)\n",
    "\n",
    "b1 = plt.scatter(x_train_from_csv[:, 0], x_train[:, 1], c='white',\n",
    "                 s=20, edgecolor='k')\n",
    "b2 = plt.scatter(x_test_from_csv[:, 0], x_test[:, 1], c='green',\n",
    "                 s=20, edgecolor='k')\n",
    "c = plt.scatter(x_outliers[:, 0], x_outliers[:, 1], c='red',\n",
    "                s=20, edgecolor='k')\n",
    "plt.axis('tight')\n",
    "plt.xlim((-5, 5))\n",
    "plt.ylim((-5, 5))\n",
    "plt.legend([b1, b2, c],\n",
    "           [\"training observations\",\n",
    "            \"new regular observations\", \"new abnormal observations\"],\n",
    "           loc=\"upper left\")\n",
    "plt.show()"
   ]
  },
  {
   "cell_type": "markdown",
   "id": "caf59e6e-871c-4014-aa98-2d2e74e5233d",
   "metadata": {},
   "source": [
    "## 3. (Optional) Run predictions locally"
   ]
  },
  {
   "cell_type": "code",
   "execution_count": null,
   "id": "6fc29d5c-d94e-4d61-bd35-51f94340f2b9",
   "metadata": {},
   "outputs": [],
   "source": [
    "x_test"
   ]
  },
  {
   "cell_type": "code",
   "execution_count": null,
   "id": "6783b14f-37c0-4f9e-add6-6a870dc69b32",
   "metadata": {},
   "outputs": [],
   "source": [
    "# Run predictions\n",
    "y_pred_dataset = clf.predict(x_test)\n",
    "y_pred_dataset"
   ]
  },
  {
   "cell_type": "code",
   "execution_count": null,
   "id": "4fbc5544-0329-40b9-adab-72497b10c054",
   "metadata": {},
   "outputs": [],
   "source": []
  }
 ],
 "metadata": {
  "environment": {
   "name": "tf2-gpu.2-3.m81",
   "type": "gcloud",
   "uri": "gcr.io/deeplearning-platform-release/tf2-gpu.2-3:m81"
  },
  "kernelspec": {
   "display_name": "Python 3",
   "language": "python",
   "name": "python3"
  },
  "language_info": {
   "codemirror_mode": {
    "name": "ipython",
    "version": 3
   },
   "file_extension": ".py",
   "mimetype": "text/x-python",
   "name": "python",
   "nbconvert_exporter": "python",
   "pygments_lexer": "ipython3",
   "version": "3.7.10"
  }
 },
 "nbformat": 4,
 "nbformat_minor": 5
}
