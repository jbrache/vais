{
 "cells": [
  {
   "cell_type": "code",
   "execution_count": null,
   "id": "1b62b98b-abda-49f6-9e0f-cb811095dab7",
   "metadata": {},
   "outputs": [],
   "source": [
    "# Copyright 2021 Google LLC\n",
    "#\n",
    "# Licensed under the Apache License, Version 2.0 (the \"License\");\n",
    "# you may not use this file except in compliance with the License.\n",
    "# You may obtain a copy of the License at\n",
    "#\n",
    "#     https://www.apache.org/licenses/LICENSE-2.0\n",
    "#\n",
    "# Unless required by applicable law or agreed to in writing, software\n",
    "# distributed under the License is distributed on an \"AS IS\" BASIS,\n",
    "# WITHOUT WARRANTIES OR CONDITIONS OF ANY KIND, either express or implied.\n",
    "# See the License for the specific language governing permissions and\n",
    "# limitations under the License."
   ]
  },
  {
   "cell_type": "markdown",
   "id": "b4b6686c-9ed5-4aba-acb0-85630429cbe8",
   "metadata": {},
   "source": [
    "### Set gcloud project"
   ]
  },
  {
   "cell_type": "code",
   "execution_count": null,
   "id": "86c1a833-ea1e-4ce5-9054-39a3dab0c21a",
   "metadata": {},
   "outputs": [],
   "source": [
    "#!gcloud config set project YOUR_PROJECT_ID"
   ]
  },
  {
   "cell_type": "code",
   "execution_count": null,
   "id": "b3764d85-3248-4e1d-bb59-78c452145434",
   "metadata": {},
   "outputs": [],
   "source": [
    "project_id = !gcloud config list --format 'value(core.project)' 2>/dev/null\n",
    "print(project_id)"
   ]
  },
  {
   "cell_type": "code",
   "execution_count": null,
   "id": "c5c85add-90b5-4e3c-9aa5-e698a88f511b",
   "metadata": {},
   "outputs": [],
   "source": [
    "#!gcloud config list"
   ]
  },
  {
   "cell_type": "markdown",
   "id": "993ea981-ae27-4bc1-abfa-2a9274eebef8",
   "metadata": {},
   "source": [
    "### Environmental variables"
   ]
  },
  {
   "cell_type": "code",
   "execution_count": null,
   "id": "d17aa300-ad5d-4295-93d1-06244203aaf3",
   "metadata": {},
   "outputs": [],
   "source": [
    "import os\n",
    "os.environ['CLUSTER'] = \"training-cluster\"\n",
    "os.environ['PROJECT_ID'] = project_id[0]"
   ]
  },
  {
   "cell_type": "markdown",
   "id": "5fa95c39-8f0b-4baf-ad6c-e66c195865c3",
   "metadata": {},
   "source": [
    "# Pre-Requisites to Setup GKE Cluster"
   ]
  },
  {
   "cell_type": "markdown",
   "id": "e2fa21ce-7fb7-4e7a-a53f-b975f6324fd4",
   "metadata": {},
   "source": [
    "### 1. gcloud command - Create cluster"
   ]
  },
  {
   "cell_type": "code",
   "execution_count": null,
   "id": "d71b2f2f-6064-4b0f-9dfe-fe8589572819",
   "metadata": {},
   "outputs": [],
   "source": [
    "!gcloud container clusters create training-cluster-beta \\\n",
    "--num-nodes=2 \\\n",
    "--zone=us-central1-b \\\n",
    "--workload-pool=${PROJECT_ID}.svc.id.goog"
   ]
  },
  {
   "cell_type": "markdown",
   "id": "23a90708-a373-4486-8d58-dfdeca25d6c9",
   "metadata": {},
   "source": [
    "### 2. Create Kubernetes service account"
   ]
  },
  {
   "cell_type": "code",
   "execution_count": null,
   "id": "d7e204fa-0c17-4360-bd37-184335b219cf",
   "metadata": {},
   "outputs": [],
   "source": [
    "!kubectl create serviceaccount sa-trainer"
   ]
  },
  {
   "cell_type": "markdown",
   "id": "fd61321c-d3ef-4d43-8054-1280c0b12588",
   "metadata": {},
   "source": [
    "### 3. Create Google service account"
   ]
  },
  {
   "cell_type": "code",
   "execution_count": null,
   "id": "8031b23b-fc89-44ad-bac8-4f7298af7bd9",
   "metadata": {},
   "outputs": [],
   "source": [
    "gcloud iam service-accounts create gke-trainer-sa"
   ]
  },
  {
   "cell_type": "markdown",
   "id": "90bc18b0-ca74-48bc-ac28-10bb4aca29b1",
   "metadata": {},
   "source": [
    "### 4. Create IAM policy binding that allows Kubernetes SA to impersonate the Google service account. This binding allows the Kubernetes Service account to act as the Google service account."
   ]
  },
  {
   "cell_type": "code",
   "execution_count": null,
   "id": "af9e2ebe-7459-4cbe-8c6c-20ffe03ffc06",
   "metadata": {},
   "outputs": [],
   "source": [
    "!gcloud iam service-accounts add-iam-policy-binding \\\n",
    "--role roles/iam.workloadIdentityUser \\\n",
    "--member \"serviceAccount:virtual-anomaly.svc.id.goog[default/sa-trainer]\" \\\n",
    "gke-trainer-sa@virtual-anomaly.iam.gserviceaccount.com"
   ]
  },
  {
   "cell_type": "markdown",
   "id": "d68f8473-769f-4d4b-b9b0-6d7cedf0b43f",
   "metadata": {},
   "source": [
    "### 5. Add storage role to the Google service account"
   ]
  },
  {
   "cell_type": "code",
   "execution_count": null,
   "id": "667a5194-5685-492b-8edf-64e3b6559405",
   "metadata": {},
   "outputs": [],
   "source": [
    "!gcloud projects add-iam-policy-binding virtual-anomaly \\\n",
    "--member \"serviceAccount:gke-trainer-sa@virtual-anomaly.iam.gserviceaccount.com\" \\\n",
    "--role \"role/storage.objectAdmin\""
   ]
  },
  {
   "cell_type": "markdown",
   "id": "909f6cdc-e8cf-4ffd-a0af-ad0c0f84c200",
   "metadata": {},
   "source": [
    "### 6. Connect to the cluster (Command can also be found in Cloud Console for GKE)"
   ]
  },
  {
   "cell_type": "markdown",
   "id": "ce96636c-c241-45fc-8def-e7c431b63928",
   "metadata": {},
   "source": [
    "Configure kubectl  command line access by running the following command:"
   ]
  },
  {
   "cell_type": "code",
   "execution_count": null,
   "id": "9321214a-d42d-4a42-8b86-8129e4f3151b",
   "metadata": {},
   "outputs": [],
   "source": [
    "!gcloud container clusters get-credentials training-cluster-beta --zone us-central1-b --project $PROJECT_ID"
   ]
  },
  {
   "cell_type": "markdown",
   "id": "7c47013c-1385-42f7-9569-d18101bf36c6",
   "metadata": {},
   "source": [
    "### 7. Add annotation to the Kubernetes service account, using the email address of the Google service account."
   ]
  },
  {
   "cell_type": "code",
   "execution_count": null,
   "id": "545d4e5a-694c-4cb7-8550-a382a2816697",
   "metadata": {},
   "outputs": [],
   "source": [
    "!kubectl annotate serviceaccount \\\n",
    "--namespace default sa-trainer \\\n",
    "iam.gke.io/gcp-service-account=gke-trainer-sa@virtual-anomaly.iam.gserviceaccount.com"
   ]
  },
  {
   "cell_type": "markdown",
   "id": "602a0bfe-c3e5-49bb-a7e9-b85d50820dd7",
   "metadata": {},
   "source": [
    "Refer to https://cloud.google.com/kubernetes-engine/docs/how-to/workload-identity for the latest instructions."
   ]
  },
  {
   "cell_type": "markdown",
   "id": "8d89a022-f1a6-446d-ae9d-cd487f919485",
   "metadata": {},
   "source": [
    "# Run Training and Prediction Jobs on GKE Cluster"
   ]
  },
  {
   "cell_type": "markdown",
   "id": "57724789-72df-4101-b959-2cfdf431f19b",
   "metadata": {},
   "source": [
    "### Run the Kubernetes training job"
   ]
  },
  {
   "cell_type": "code",
   "execution_count": null,
   "id": "143fde7a-f0bb-409f-ad78-027cf8800e8b",
   "metadata": {},
   "outputs": [],
   "source": [
    "!kubectl apply -f k8s_job_training.yaml"
   ]
  },
  {
   "cell_type": "markdown",
   "id": "90b5f702-4879-4ff3-b03f-d0d0cb4120cc",
   "metadata": {},
   "source": [
    "#Verify\n",
    "\n",
    "Verify that the output cloud storage location specified in the yaml has the contents with the timestamp matching the job run time."
   ]
  },
  {
   "cell_type": "markdown",
   "id": "3a30144b-8cbf-4e63-b156-0c3e9f5f2e54",
   "metadata": {},
   "source": [
    "### Run the Kubernetes prediction job"
   ]
  },
  {
   "cell_type": "code",
   "execution_count": null,
   "id": "2e893391-cdc3-4c5b-a932-1703d8a4d041",
   "metadata": {},
   "outputs": [],
   "source": [
    "!kubectl apply -f k8s_job_prediction.yaml"
   ]
  },
  {
   "cell_type": "markdown",
   "id": "1563646a-b68f-4c90-9811-52037e8747c8",
   "metadata": {},
   "source": [
    "#Verify\n",
    "\n",
    "Verify that the output cloud storage location specified in the yaml has the contents with the timestamp matching the job run time."
   ]
  },
  {
   "cell_type": "markdown",
   "id": "e7cde16f-ce14-4dcb-be97-6fae91c7a1be",
   "metadata": {},
   "source": [
    "### Troubleshooting 101"
   ]
  },
  {
   "cell_type": "markdown",
   "id": "d250a4a6-5867-4480-a7bc-e2378f595955",
   "metadata": {},
   "source": [
    "kubectl get jobs # Lists all jobs in the default namespace\n",
    "\n",
    "kubectl get pods # Lists all pods in the default namespace\n",
    "\n",
    "kubectl describe job {pod_name} # Gives additional information about the job\n",
    "\n",
    "kubectl describe pod {pod_name} # Gives additional information about the pod\n",
    "\n",
    "kubectl logs {pod_name} # Shows the pod logs"
   ]
  },
  {
   "cell_type": "code",
   "execution_count": null,
   "id": "9d7ed989-96aa-44d6-9862-76375fd815f4",
   "metadata": {},
   "outputs": [],
   "source": [
    "!kubectl get jobs"
   ]
  },
  {
   "cell_type": "markdown",
   "id": "b1c1d34d-ed34-4964-a9a4-d5de74d7e70c",
   "metadata": {},
   "source": [
    "### Rerun Training"
   ]
  },
  {
   "cell_type": "code",
   "execution_count": null,
   "id": "c139e515-ae07-477d-a0ba-1866aedcd0cf",
   "metadata": {},
   "outputs": [],
   "source": [
    "!kubectl delete job trainer-job"
   ]
  },
  {
   "cell_type": "markdown",
   "id": "bbdea136-d496-44b2-989b-f228390fb460",
   "metadata": {},
   "source": [
    "### Rerun Prediction/Infererence"
   ]
  },
  {
   "cell_type": "code",
   "execution_count": null,
   "id": "a44f3622-3f5a-4a23-8a25-9388f773b05a",
   "metadata": {},
   "outputs": [],
   "source": [
    "!kubectl delete job prediction-job"
   ]
  },
  {
   "cell_type": "markdown",
   "id": "4a4a000d-b5d8-48d5-ab23-8bb192019df4",
   "metadata": {
    "tags": []
   },
   "source": [
    "# Destroy the cluster"
   ]
  },
  {
   "cell_type": "code",
   "execution_count": null,
   "id": "f2e5a85d-d6c7-47cc-a794-44d2f2eab2cc",
   "metadata": {},
   "outputs": [],
   "source": [
    "!gcloud container clusters delete training-cluster"
   ]
  },
  {
   "cell_type": "code",
   "execution_count": null,
   "id": "22f8c068-7d45-4b52-9b25-8ce2d297ff1f",
   "metadata": {},
   "outputs": [],
   "source": []
  }
 ],
 "metadata": {
  "environment": {
   "name": "tf2-gpu.2-3.m81",
   "type": "gcloud",
   "uri": "gcr.io/deeplearning-platform-release/tf2-gpu.2-3:m81"
  },
  "kernelspec": {
   "display_name": "Python 3",
   "language": "python",
   "name": "python3"
  },
  "language_info": {
   "codemirror_mode": {
    "name": "ipython",
    "version": 3
   },
   "file_extension": ".py",
   "mimetype": "text/x-python",
   "name": "python",
   "nbconvert_exporter": "python",
   "pygments_lexer": "ipython3",
   "version": "3.7.10"
  }
 },
 "nbformat": 4,
 "nbformat_minor": 5
}
