{
 "cells": [
  {
   "cell_type": "code",
   "execution_count": null,
   "id": "3fbeecdc",
   "metadata": {},
   "outputs": [],
   "source": [
    "# Copyright 2021 Google LLC\n",
    "#\n",
    "# Licensed under the Apache License, Version 2.0 (the \"License\");\n",
    "# you may not use this file except in compliance with the License.\n",
    "# You may obtain a copy of the License at\n",
    "#\n",
    "#     https://www.apache.org/licenses/LICENSE-2.0\n",
    "#\n",
    "# Unless required by applicable law or agreed to in writing, software\n",
    "# distributed under the License is distributed on an \"AS IS\" BASIS,\n",
    "# WITHOUT WARRANTIES OR CONDITIONS OF ANY KIND, either express or implied.\n",
    "# See the License for the specific language governing permissions and\n",
    "# limitations under the License."
   ]
  },
  {
   "cell_type": "markdown",
   "id": "4827b4da",
   "metadata": {},
   "source": [
    "### Import packages"
   ]
  },
  {
   "cell_type": "code",
   "execution_count": null,
   "id": "04c0385f",
   "metadata": {},
   "outputs": [],
   "source": [
    "import os\n",
    "import json\n",
    "import logging\n",
    "import pandas as pd\n",
    "import numpy as np\n",
    "\n",
    "from datetime import datetime\n",
    "from pytz import timezone"
   ]
  },
  {
   "cell_type": "markdown",
   "id": "e82e71de",
   "metadata": {},
   "source": [
    "Adjusted this notebook from this codelab:\n",
    "https://codelabs.developers.google.com/vertex_custom_training_prediction"
   ]
  },
  {
   "cell_type": "markdown",
   "id": "d6091845",
   "metadata": {},
   "source": [
    "## 1. Overview\n",
    "In this lab, you will use GKE instead of [Vertex AI](https://cloud.google.com/vertex-ai/docs) to train and serve a TensorFlow model using code in a custom container.\n",
    "\n",
    "While we're using scikit-learn for the model code here, you could easily replace it with another framework.\n",
    "\n",
    "What you learn\n",
    "You'll learn how to:\n",
    "\n",
    "Build and containerize model training code in Vertex Notebooks\n",
    "Submit a custom model training job to GKE\n",
    "Deploy your trained model GKE as a job, and use that job to get predictions"
   ]
  },
  {
   "cell_type": "markdown",
   "id": "ca7b906e",
   "metadata": {},
   "source": [
    "## 2. Intro to Vertex AI\n",
    "This lab uses GKE to run training and predictions.\n",
    "\n",
    "Although running training/prediction is an option, consider the newest AI product offering available on Google Cloud. [Vertex AI](https://cloud.google.com/vertex-ai/docs) integrates the ML offerings across Google Cloud into a seamless development experience. Previously, models trained with AutoML and custom models were accessible via separate services. The new offering combines both into a single API, along with other new products. You can also migrate existing projects to Vertex AI. If you have any feedback, please see the [support page](https://cloud.google.com/vertex-ai/docs/support/getting-support).\n",
    "\n",
    "Vertex AI includes many different products to support end-to-end ML workflows. This lab will focus on the products highlighted below: Training, Prediction, and Notebooks."
   ]
  },
  {
   "cell_type": "markdown",
   "id": "fd599a76",
   "metadata": {},
   "source": [
    "## 3. Setup your environment\n",
    "You'll need a Google Cloud Platform project with billing enabled to run this codelab. To create a project, follow the [instructions here](https://cloud.google.com/resource-manager/docs/creating-managing-projects)."
   ]
  },
  {
   "cell_type": "markdown",
   "id": "3878d7c3",
   "metadata": {},
   "source": [
    "### Step 3.1: Enable the Compute Engine API\n",
    "Navigate to [Compute Engine](https://console.cloud.google.com/marketplace/details/google/compute.googleapis.com) and select **Enable** if it isn't already enabled. You'll need this to create your notebook instance.\n",
    "### Step 3.2: Enable the Vertex AI API\n",
    "Navigate to the [Vertex AI section of your Cloud Console](https://console.cloud.google.com/ai/platform) and click **Enable** Vertex AI API.\n",
    "### Step 3.3: Enable the Container Registry API\n",
    "Navigate to the [Container Registry](https://console.cloud.google.com/apis/library/containerregistry.googleapis.com) and select **Enable** if it isn't already. You'll use this to create a container for your custom training job.\n",
    "### Step 3.4: Create an Vertex Notebooks instance\n",
    "From the [Vertex AI section](https://console.cloud.google.com/ai/platform) of your Cloud Console, click on Notebooks.\n",
    "\n",
    "From there, select **New Instance**. Then select the **TensorFlow Enterprise 2.3** instance type **without GPUs**:"
   ]
  },
  {
   "cell_type": "markdown",
   "id": "93fbd665",
   "metadata": {},
   "source": [
    "## 4. Load the data for training and predictions to GCS"
   ]
  },
  {
   "cell_type": "markdown",
   "id": "2b657c00-ffcf-468e-b597-55a481891b48",
   "metadata": {},
   "source": [
    "### Configure Global Variables"
   ]
  },
  {
   "cell_type": "markdown",
   "id": "71994fb3",
   "metadata": {},
   "source": [
    "List your current GCP project name"
   ]
  },
  {
   "cell_type": "code",
   "execution_count": null,
   "id": "31291184-7357-48ab-85dc-34653f957326",
   "metadata": {},
   "outputs": [],
   "source": [
    "project_id = !gcloud config list --format 'value(core.project)' 2>/dev/null\n",
    "print(project_id)"
   ]
  },
  {
   "cell_type": "markdown",
   "id": "5f74804c-6c23-4488-a233-74130c3a080b",
   "metadata": {},
   "source": [
    "Configure your system variables"
   ]
  },
  {
   "cell_type": "code",
   "execution_count": null,
   "id": "d34446c6-8130-4d28-9954-f2366c504895",
   "metadata": {},
   "outputs": [],
   "source": [
    "# Configure your global variables\n",
    "PROJECT = project_id[0]          # Replace with your project ID\n",
    "USER = 'test_user'               # Replace with your user name\n",
    "BUCKET_NAME = project_id[0] + '-vertex-ai'       # Replace with your gcs bucket name\n",
    "\n",
    "FOLDER_NAME = 'sklearn_models'\n",
    "ALGORITHM = 'isolation_forest'\n",
    "TIMEZONE = 'US/Pacific'         \n",
    "REGION = 'us-central1'           # bucket should be in same region as Vertex AI         \n",
    "TRAIN_FEATURE_PATH = f\"gs://{BUCKET_NAME}/{FOLDER_NAME}_data/{ALGORITHM}/train/train.csv\"\n",
    "TEST_FEATURE_PATH = f\"gs://{BUCKET_NAME}/{FOLDER_NAME}_data/{ALGORITHM}/test/test.csv\""
   ]
  },
  {
   "cell_type": "code",
   "execution_count": null,
   "id": "1bf02885-a730-415d-9601-37fab2b54db2",
   "metadata": {},
   "outputs": [],
   "source": [
    "print(f\"Project:      {PROJECT}\")\n",
    "print(f\"Bucket Name: {BUCKET_NAME}\")\n",
    "print(f\"Training Data URI:  {TRAIN_FEATURE_PATH}\")\n",
    "print(f\"Test Data URI:      {TEST_FEATURE_PATH}\")"
   ]
  },
  {
   "cell_type": "markdown",
   "id": "8ca39e78-2915-4714-b173-dcbfbe4f658f",
   "metadata": {},
   "source": [
    "**Create your bucket**"
   ]
  },
  {
   "cell_type": "code",
   "execution_count": null,
   "id": "02276c97-5782-49cf-89de-2b1335613314",
   "metadata": {},
   "outputs": [],
   "source": [
    "!gsutil mb -l $REGION gs://$BUCKET_NAME "
   ]
  },
  {
   "cell_type": "markdown",
   "id": "e4b25985-1ce8-49ed-9d82-109df382e402",
   "metadata": {},
   "source": [
    "### Create and upload the dataset"
   ]
  },
  {
   "cell_type": "code",
   "execution_count": null,
   "id": "053ca02a-35e1-48d9-ab27-d3ed64aa2c87",
   "metadata": {},
   "outputs": [],
   "source": [
    "DATA_DIR = \"data\"\n",
    "gcs_source_train_url = TRAIN_FEATURE_PATH\n",
    "gcs_source_test_url = TEST_FEATURE_PATH\n",
    "local_source_train = DATA_DIR + \"/train/train.csv\"\n",
    "local_source_test = DATA_DIR + \"/test/test.csv\"\n",
    "\n",
    "print(f\"Train data content will be loaded to {gcs_source_train_url}\")\n",
    "print(f\"Local train data content is here {local_source_train}\")\n",
    "print(f\"Test data content will be loaded to {gcs_source_train_url}\")\n",
    "print(f\"Local test data content is here {local_source_test}\")"
   ]
  },
  {
   "cell_type": "markdown",
   "id": "d7ce1f18-2740-4746-98cd-4cd3ab15ba9d",
   "metadata": {},
   "source": [
    "**Create the dataset**"
   ]
  },
  {
   "cell_type": "code",
   "execution_count": null,
   "id": "3649c9eb-333f-4898-be0c-2954e9cba1aa",
   "metadata": {},
   "outputs": [],
   "source": [
    "rng = np.random.RandomState(42)\n",
    "\n",
    "# Generate train data\n",
    "x = 0.3 * rng.randn(100, 2)\n",
    "x_train = np.r_[x + 2, x - 2]\n",
    "# Generate some regular novel observations\n",
    "x = 0.3 * rng.randn(20, 2)\n",
    "x_test = np.r_[x + 2, x - 2]\n",
    "# Generate some abnormal novel observations\n",
    "x_outliers = rng.uniform(low=-4, high=4, size=(20, 2))\n",
    "\n",
    "if not os.path.exists(DATA_DIR + '/train'):\n",
    "    os.makedirs(DATA_DIR + '/train')\n",
    "if not os.path.exists(DATA_DIR + '/test'):\n",
    "    os.makedirs(DATA_DIR + '/test')\n",
    "np.savetxt(local_source_train, x_train, fmt='%s', delimiter=\",\")\n",
    "np.savetxt(local_source_test, x_test, fmt='%s', delimiter=\",\")"
   ]
  },
  {
   "cell_type": "markdown",
   "id": "bac638c2-bcb7-4d0f-941d-e1bcc4cc697c",
   "metadata": {},
   "source": [
    "**Copy the dataset to GCS**"
   ]
  },
  {
   "cell_type": "code",
   "execution_count": null,
   "id": "8c2d980a-6c9d-41a7-8402-ee806cfb0a19",
   "metadata": {},
   "outputs": [],
   "source": [
    "!gsutil cp $local_source_train $gcs_source_train_url\n",
    "!gsutil cp $local_source_test $gcs_source_test_url"
   ]
  },
  {
   "cell_type": "code",
   "execution_count": null,
   "id": "4cac596e-8277-4a40-926d-509c08b2b9dd",
   "metadata": {},
   "outputs": [],
   "source": [
    "path = f\"gs://{BUCKET_NAME}/{FOLDER_NAME}_data/{ALGORITHM}/train\"\n",
    "!gsutil ls $path\n",
    "path = f\"gs://{BUCKET_NAME}/{FOLDER_NAME}_data/{ALGORITHM}/test\"\n",
    "!gsutil ls $path"
   ]
  },
  {
   "cell_type": "markdown",
   "id": "c4e04fe1",
   "metadata": {},
   "source": [
    "### Next, open the **1. sklearn-cb-ctr-setup-training** notebook"
   ]
  }
 ],
 "metadata": {
  "environment": {
   "name": "tf2-gpu.2-3.m81",
   "type": "gcloud",
   "uri": "gcr.io/deeplearning-platform-release/tf2-gpu.2-3:m81"
  },
  "kernelspec": {
   "display_name": "Python 3",
   "language": "python",
   "name": "python3"
  },
  "language_info": {
   "codemirror_mode": {
    "name": "ipython",
    "version": 3
   },
   "file_extension": ".py",
   "mimetype": "text/x-python",
   "name": "python",
   "nbconvert_exporter": "python",
   "pygments_lexer": "ipython3",
   "version": "3.7.10"
  }
 },
 "nbformat": 4,
 "nbformat_minor": 5
}
